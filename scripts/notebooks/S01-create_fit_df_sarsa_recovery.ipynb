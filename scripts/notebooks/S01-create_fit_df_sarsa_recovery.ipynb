{
 "cells": [
  {
   "cell_type": "markdown",
   "metadata": {},
   "source": [
    "# Supplementary Notebook: Recovery Analysis\n",
    "This notebook was made to perform the recovery analysis from the 500 agents (fitting 500 agent's data would take around 250 minutes). To this end we have provided\n",
    "fit agent data in data/simulations folder\n",
    "\n",
    "This is used to generate Supplementary Table 1"
   ]
  },
  {
   "cell_type": "code",
   "execution_count": 1,
   "metadata": {},
   "outputs": [
    {
     "name": "stderr",
     "output_type": "stream",
     "text": [
      "/Users/abkara/anaconda3/envs/mb-cog-maps-paper/lib/python3.8/site-packages/outdated/utils.py:14: OutdatedPackageWarning: The package pingouin is out of date. Your version is 0.5.0, the latest is 0.5.1.\n",
      "Set the environment variable OUTDATED_IGNORE=1 to disable these warnings.\n",
      "  return warn(\n"
     ]
    }
   ],
   "source": [
    "import os\n",
    "import pickle \n",
    "import numpy as np\n",
    "import pandas as pd\n",
    "import pingouin as pg\n",
    "\n",
    "\n"
   ]
  },
  {
   "cell_type": "code",
   "execution_count": 2,
   "metadata": {},
   "outputs": [],
   "source": [
    "subjects = np.arange(0,500).astype(int)\n"
   ]
  },
  {
   "cell_type": "code",
   "execution_count": 3,
   "metadata": {},
   "outputs": [],
   "source": [
    "\n",
    "\n",
    "column_names = {0:'beta init',1:'beta fit', \n",
    "                2:'alpha init', 3:'alpha fit',\n",
    "                4:'lambda init' , 5:'lambda fit',\n",
    "                6:'w low stakes low arm init', 7:'w low stakes low arm fit',  \n",
    "                8:'w high stakes low arm init', 9:'w high stakes low arm fit',\n",
    "                10:'w low stakes high arm init', 11:'w low stakes high arm fit',  \n",
    "                12:'w high stakes high arm init', 13:'w high stakes high arm fit',\n",
    "                14:'stickiness init', 15:'stickiness fit',\n",
    "                16:'resp stickiness init',17:'resp stickiness fit',\n",
    "                18:'eta init',19:'eta fit',\n",
    "                20:'kappa init',21:'kappa fit'}\n",
    "fit_df = pd.DataFrame()\n",
    "for sub in subjects:\n",
    "    filename = f\"/Users/abkara/grad_school/rep2step/mb-cog-maps-paper/data/simulations/recovery_analysis/agent_fits/{sub}.0_MB_MF_MAP_learn_mat_arms_w1_etakappa_transmats_fits.pickle\"\n",
    "    filename2 = f\"/Users/abkara/grad_school/rep2step/mb-cog-maps-paper/data/simulations/recovery_analysis/agent_data/agent_{sub}_w1.pkl\"\n",
    "    data_init = pickle.load( open( filename2, \"rb\" ) )\n",
    "    if os.path.exists(filename):\n",
    "        data = pickle.load( open( filename, \"rb\" ) )\n",
    "        best_key = 0\n",
    "        for i in range(len(data)):\n",
    "            if data[i][0].fun < data[best_key][0].fun:\n",
    "                best_key = i\n",
    "        sub_data = list(zip(data_init[0],data[best_key][0].x))\n",
    "        flat_sub_data = [item for sublist in sub_data for item in sublist]\n",
    "        sub_fit_df = pd.DataFrame(flat_sub_data).T.rename(columns=column_names)\n",
    "        sub_fit_df['subid'] = sub\n",
    "        sub_fit_df['LL'] = data[best_key][0].fun\n",
    "        fit_df = pd.concat([fit_df,sub_fit_df])\n",
    "    else:\n",
    "        print('missing %d' % sub)\n",
    "\n",
    "fit_df = fit_df.reset_index().drop(columns='index')"
   ]
  },
  {
   "cell_type": "markdown",
   "source": [
    "Correlation values for all the parameter recovery"
   ],
   "metadata": {
    "collapsed": false
   }
  },
  {
   "cell_type": "code",
   "execution_count": 5,
   "metadata": {},
   "outputs": [
    {
     "name": "stdout",
     "output_type": "stream",
     "text": [
      "w fit            n         r         CI95%         p-val       BF10  power\n",
      "pearson  500  0.623767  [0.57, 0.67]  2.922812e-55  6.711e+51    1.0\n",
      "β fit            n         r        CI95%         p-val       BF10  power\n",
      "pearson  500  0.540062  [0.47, 0.6]  3.370665e-39  7.773e+35    1.0\n",
      "α fit            n         r         CI95%         p-val       BF10  power\n",
      "pearson  500  0.614658  [0.56, 0.67]  2.823434e-53  7.179e+49    1.0\n",
      "λ fit            n         r         CI95%         p-val      BF10  power\n",
      "pearson  500  0.499347  [0.43, 0.56]  6.861613e-33  4.37e+29    1.0\n",
      "π fit            n         r         CI95%         p-val       BF10  power\n",
      "pearson  500  0.702483  [0.66, 0.74]  1.411017e-75  1.025e+72    1.0\n",
      "ρ fit            n         r         CI95%         p-val       BF10     power\n",
      "pearson  500  0.238061  [0.15, 0.32]  7.143109e-08  1.077e+05  0.999726\n",
      "η fit            n         r          CI95%     p-val   BF10     power\n",
      "pearson  500  0.076999  [-0.01, 0.16]  0.085434  0.245  0.405846\n",
      "κ fit            n        r         CI95%     p-val  BF10    power\n",
      "pearson  500  0.01583  [-0.07, 0.1]  0.724003  0.06  0.06438\n"
     ]
    }
   ],
   "source": [
    "print(f\"w fit {pg.corr(fit_df['w low stakes low arm fit'],fit_df['w low stakes low arm init'])}\")\n",
    "print(f\"β fit {pg.corr(fit_df['beta fit'],fit_df['beta init'])}\")\n",
    "print(f\"α fit {pg.corr(fit_df['alpha fit'],fit_df['alpha init'])}\")\n",
    "print(f\"λ fit {pg.corr(fit_df['lambda fit'],fit_df['lambda init'])}\")\n",
    "print(f\"π fit {pg.corr(fit_df['stickiness fit'],fit_df['stickiness init'])}\")\n",
    "print(f\"ρ fit {pg.corr(fit_df['resp stickiness fit'],fit_df['resp stickiness init'])}\")\n",
    "print(f\"η fit {pg.corr(fit_df['eta fit'],fit_df['eta init'])}\")\n",
    "print(f\"κ fit {pg.corr(fit_df['kappa fit'],fit_df['kappa init'])}\")\n",
    "\n",
    "\n",
    "\n"
   ]
  },
  {
   "cell_type": "code",
   "execution_count": 5,
   "outputs": [],
   "source": [],
   "metadata": {
    "collapsed": false,
    "pycharm": {
     "name": "#%%\n"
    }
   }
  }
 ],
 "metadata": {
  "kernelspec": {
   "display_name": "Python 3",
   "language": "python",
   "name": "python3"
  },
  "language_info": {
   "codemirror_mode": {
    "name": "ipython",
    "version": 3
   },
   "file_extension": ".py",
   "mimetype": "text/x-python",
   "name": "python",
   "nbconvert_exporter": "python",
   "pygments_lexer": "ipython3",
   "version": "3.7.9"
  }
 },
 "nbformat": 4,
 "nbformat_minor": 4
}