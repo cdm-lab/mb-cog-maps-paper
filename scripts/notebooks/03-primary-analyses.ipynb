{
 "cells": [
  {
   "cell_type": "markdown",
   "source": [
    "# Main results notebook\n",
    "\n",
    "this notebook will allow you to rerun the main statistics for the reported effects in the paper\n",
    "\n",
    "the code for this is found under src.utils.make_primary_stats"
   ],
   "metadata": {}
  },
  {
   "cell_type": "code",
   "execution_count": 11,
   "source": [
    "import numpy as np\n",
    "import pandas as pd\n",
    "import src.utils.make_primary_stats as stats\n",
    "import src.utils.dataset_utils as ds_utils\n",
    "import pingouin as pg\n",
    "\n",
    "datadir = '/mnt/data/processed/experiment_2'"
   ],
   "outputs": [],
   "metadata": {}
  },
  {
   "cell_type": "code",
   "execution_count": 3,
   "source": [
    "data_dict = ds_utils.load_exp_data(datadir)"
   ],
   "outputs": [
    {
     "output_type": "stream",
     "name": "stderr",
     "text": [
      "/mnt/src/utils/dataset_utils.py:584: FutureWarning: Indexing with multiple keys (implicitly converted to a tuple of keys) will be deprecated, use a list instead.\n",
      "  good_stakes.groupby([\"subid\"])[\"points\", \"rews_together\", \"rt_1\", \"rt_2\"]\n"
     ]
    }
   ],
   "metadata": {}
  },
  {
   "cell_type": "code",
   "execution_count": 4,
   "source": [
    "stats.model_fitting_descriptive_stats(data_dict['w1_map_df'])"
   ],
   "outputs": [
    {
     "output_type": "stream",
     "name": "stdout",
     "text": [
      "Summary stats for different components of model\n",
      "beta fit                      1.514586\n",
      "alpha fit                     0.648679\n",
      "lambda fit                    0.529495\n",
      "w low stakes low arm fit      0.571975\n",
      "stickiness fit                0.258882\n",
      "resp stickiness fit          -0.289249\n",
      "eta fit                       0.484691\n",
      "kappa fit                     0.502964\n",
      "LL                          143.861729\n",
      "dtype: float64\n",
      "\n"
     ]
    }
   ],
   "metadata": {}
  },
  {
   "cell_type": "markdown",
   "source": [
    "You can see the average $w$ parameter fit is 0.572"
   ],
   "metadata": {}
  },
  {
   "cell_type": "markdown",
   "source": [
    "---\n",
    "### Behavioral indices of representational change track task structure."
   ],
   "metadata": {}
  },
  {
   "cell_type": "code",
   "execution_count": 12,
   "source": [
    "print(f\"including {data_dict['model_mat_fits'].subid.nunique()} subjects\")\n",
    "print(\"1 sample ttest from 0 for Visual Co-occurence fit\")\n",
    "print(pg.ttest(data_dict['model_mat_fits'][\"Visual cooccurrence\"], 0))\n",
    "print(\"\")\n",
    "print(\"1 sample ttest from 0 for Direct reward association fit\")\n",
    "print(pg.ttest(data_dict['model_mat_fits'][\"Direct item association\"], 0))\n",
    "print(\"\")\n",
    "print(\"1 sample ttest from 0 for Indirect outcome-linked association fit\")\n",
    "print(pg.ttest(data_dict['model_mat_fits'][\"Indirect item association\"], 0))\n",
    "print(\"\")"
   ],
   "outputs": [
    {
     "output_type": "stream",
     "name": "stdout",
     "text": [
      "including 161 subjects\n",
      "1 sample ttest from 0 for Visual Co-occurence fit\n",
      "              T  dof alternative     p-val          CI95%   cohen-d      BF10  \\\n",
      "T-test  4.63838  160   two-sided  0.000007  [4.48, 11.12]  0.365556  1802.332   \n",
      "\n",
      "          power  \n",
      "T-test  0.99598  \n",
      "\n",
      "1 sample ttest from 0 for Direct reward association fit\n",
      "               T  dof alternative         p-val          CI95%   cohen-d  \\\n",
      "T-test  5.979339  160   two-sided  1.413007e-08  [7.15, 14.21]  0.471238   \n",
      "\n",
      "             BF10  power  \n",
      "T-test  6.929e+05    1.0  \n",
      "\n",
      "1 sample ttest from 0 for Indirect outcome-linked association fit\n",
      "               T  dof alternative         p-val          CI95%   cohen-d  \\\n",
      "T-test  5.286294  160   two-sided  4.036660e-07  [5.39, 11.82]  0.416618   \n",
      "\n",
      "           BF10     power  \n",
      "T-test  2.8e+04  0.999507  \n",
      "\n"
     ]
    }
   ],
   "metadata": {}
  },
  {
   "cell_type": "markdown",
   "source": [
    "---\n",
    "### Representations of task structure correlate with task performance and model-based control.\n",
    "\n",
    "Correlation of model matrix fits and baseline-correct points earned in the decision-making task"
   ],
   "metadata": {}
  },
  {
   "cell_type": "code",
   "execution_count": 10,
   "source": [
    "stats.model_mat_fits_points_corr(data_dict['model_mat_fits'], data_dict['grouped_stakes'])"
   ],
   "outputs": [
    {
     "output_type": "stream",
     "name": "stdout",
     "text": [
      "\n",
      "including 161 subjects\n",
      "Correlation of Visual Co-occurence β with Points earned in decision-making task\n",
      "           n        r          CI95%     p-val   BF10     power\n",
      "pearson  161  0.00377  [-0.15, 0.16]  0.962143  0.099  0.050159\n",
      "Correlation of Direct reward association β with Points earned in decision-making task\n",
      "           n         r         CI95%     p-val     BF10     power\n",
      "pearson  161  0.324501  [0.18, 0.46]  0.000027  614.596  0.988808\n",
      "\n",
      "Correlation of Indirect outcome-linked association β with Points earned in decision-making task\n",
      "           n         r         CI95%         p-val       BF10     power\n",
      "pearson  161  0.445976  [0.31, 0.56]  3.050133e-09  3.603e+06  0.999978\n",
      "\n"
     ]
    }
   ],
   "metadata": {}
  },
  {
   "cell_type": "markdown",
   "source": [
    "Correlation of model matrix fits and model-based control parameter "
   ],
   "metadata": {}
  },
  {
   "cell_type": "code",
   "execution_count": 9,
   "source": [
    "stats.model_mat_fits_w_corr(data_dict['model_mat_fits'], data_dict['w1_map_df'])"
   ],
   "outputs": [
    {
     "output_type": "stream",
     "name": "stdout",
     "text": [
      "including 161 subjects\n",
      "Correlation of Visual Co-occurrence β with w fit\n",
      "           n         r          CI95%     p-val   BF10     power\n",
      "pearson  161 -0.140595  [-0.29, 0.01]  0.075257  0.473  0.430136\n",
      "\n",
      "Correlation of Direct reward association β with w fit\n",
      "           n         r         CI95%     p-val     BF10     power\n",
      "pearson  161  0.325581  [0.18, 0.46]  0.000025  653.687  0.989248\n",
      "\n",
      "Correlation of Indirect outcome-linked association β with w fit\n",
      "           n         r         CI95%         p-val       BF10     power\n",
      "pearson  161  0.477897  [0.35, 0.59]  1.448315e-10  6.852e+07  0.999998\n",
      "\n"
     ]
    }
   ],
   "metadata": {}
  },
  {
   "cell_type": "markdown",
   "source": [
    "---\n",
    "### Motivation affects representational change.\n",
    "\n",
    "Stake x Arm ANOVA results"
   ],
   "metadata": {}
  },
  {
   "cell_type": "code",
   "execution_count": 17,
   "source": [
    "stats.model_based_condition_anova(data_dict['w4_map_df'])"
   ],
   "outputs": [
    {
     "output_type": "stream",
     "name": "stdout",
     "text": [
      "\n",
      "=============\n",
      "ANOVA SUMMARY\n",
      "=============\n",
      "\n",
      "Source           SS    ddof1    ddof2     MS      F    p-unc    p-GG-corr    np2    eps\n",
      "------------  -----  -------  -------  -----  -----  -------  -----------  -----  -----\n",
      "arm           0.015        1      160  0.015  1.346    0.248        0.248  0.008  1.000\n",
      "stakes        0.091        1      160  0.091  7.265    0.008        0.008  0.043  1.000\n",
      "arm * stakes  0.024        1      160  0.024  1.286    0.258        0.258  0.008  1.000\n",
      "\n",
      "5x w parameter is 0.5645616887045466\n",
      "1x w parameter is 0.5408204669090588\n"
     ]
    }
   ],
   "metadata": {}
  },
  {
   "cell_type": "markdown",
   "source": [
    "---\n",
    "1 sample t-tests for the difference in beta values between high and low stake environment versions of the behRSA regressions"
   ],
   "metadata": {}
  },
  {
   "cell_type": "code",
   "execution_count": 13,
   "source": [
    "print(f\"including {data_dict['model_mat_hvl'].subid.nunique()} subjects\")\n",
    "print(\"1 sample ttest from 0 for state1_diff\")\n",
    "print(pg.ttest(data_dict['model_mat_hvl'][\"state1_diff\"], 0))\n",
    "print(\"\")\n",
    "print(\"1 sample ttest from 0 for l_diff\")\n",
    "print(pg.ttest(data_dict['model_mat_hvl'][\"l_diff\"], 0))\n",
    "print(\"\")\n",
    "print(\"1 sample ttest from 0 for o_diff\")\n",
    "print(pg.ttest(data_dict['model_mat_hvl'][\"o_diff\"], 0))\n",
    "print(\"\")"
   ],
   "outputs": [
    {
     "output_type": "stream",
     "name": "stdout",
     "text": [
      "including 161 subjects\n",
      "1 sample ttest from 0 for state1_diff\n",
      "               T  dof alternative     p-val          CI95%   cohen-d   BF10  \\\n",
      "T-test  0.452059  160   two-sided  0.651839  [-2.23, 3.56]  0.035627  0.097   \n",
      "\n",
      "           power  \n",
      "T-test  0.073435  \n",
      "\n",
      "1 sample ttest from 0 for l_diff\n",
      "               T  dof alternative    p-val          CI95%   cohen-d   BF10  \\\n",
      "T-test  1.740524  160   two-sided  0.08369  [-0.23, 3.69]  0.137173  0.384   \n",
      "\n",
      "           power  \n",
      "T-test  0.409202  \n",
      "\n",
      "1 sample ttest from 0 for o_diff\n",
      "               T  dof alternative     p-val         CI95%   cohen-d    BF10  \\\n",
      "T-test  3.222347  160   two-sided  0.001541  [1.75, 7.29]  0.253957  12.354   \n",
      "\n",
      "           power  \n",
      "T-test  0.893063  \n",
      "\n"
     ]
    }
   ],
   "metadata": {}
  },
  {
   "cell_type": "markdown",
   "source": [
    "---\n",
    "### Memory for object-background pairings is better in higher-stakes contexts.\n",
    "\n",
    "$d'$ differences from high and low-stakes environments"
   ],
   "metadata": {}
  },
  {
   "cell_type": "code",
   "execution_count": 19,
   "source": [
    "stats.memory_dprime_ttest(data_dict['dprime_df'])"
   ],
   "outputs": [
    {
     "output_type": "stream",
     "name": "stdout",
     "text": [
      "including 161 subjects\n",
      "paired sample t-test between dprime mismatch for high and low arm\n",
      "               T  dof alternative     p-val         CI95%   cohen-d   BF10  \\\n",
      "T-test  2.289169  160   two-sided  0.023377  [0.02, 0.31]  0.167201  1.108   \n",
      "\n",
      "          power  \n",
      "T-test  0.55918  \n",
      "\n",
      "paired sample t-test between dprime lure for high and low arm\n",
      "               T  dof alternative     p-val         CI95%   cohen-d   BF10  \\\n",
      "T-test  0.816886  160   two-sided  0.415208  [-0.1, 0.25]  0.076586  0.122   \n",
      "\n",
      "           power  \n",
      "T-test  0.161824  \n",
      "\n"
     ]
    }
   ],
   "metadata": {}
  },
  {
   "cell_type": "code",
   "execution_count": null,
   "source": [],
   "outputs": [],
   "metadata": {}
  }
 ],
 "metadata": {
  "interpreter": {
   "hash": "46a92a374ab22580d330e785dc2d7bbc28533baedc701d1d9ab6ff664babcd13"
  },
  "kernelspec": {
   "name": "python3",
   "display_name": "Python 3.8.12 64-bit ('mb-cog-maps-paper': conda)"
  },
  "language_info": {
   "codemirror_mode": {
    "name": "ipython",
    "version": 3
   },
   "file_extension": ".py",
   "mimetype": "text/x-python",
   "name": "python",
   "nbconvert_exporter": "python",
   "pygments_lexer": "ipython3",
   "version": "3.8.12"
  }
 },
 "nbformat": 4,
 "nbformat_minor": 2
}